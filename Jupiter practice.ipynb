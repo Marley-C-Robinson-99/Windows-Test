{
 "cells": [
  {
   "cell_type": "code",
   "execution_count": 4,
   "id": "4f4b83ad",
   "metadata": {},
   "outputs": [
    {
     "name": "stdout",
     "output_type": "stream",
     "text": [
      "Well hello. Uh, whats your name again?\n"
     ]
    }
   ],
   "source": [
    "Greeting = \"Well hello.\"\n",
    "print(Greeting + \" Uh, whats your name again?\")"
   ]
  },
  {
   "cell_type": "code",
   "execution_count": 6,
   "id": "74b34a53",
   "metadata": {},
   "outputs": [
    {
     "name": "stdout",
     "output_type": "stream",
     "text": [
      "marley\n",
      "Ah, thats right, marley\n"
     ]
    }
   ],
   "source": [
    "usr_name = input()\n",
    "print(\"Ah, thats right, \" + usr_name)"
   ]
  },
  {
   "cell_type": "code",
   "execution_count": 16,
   "id": "5de43c7a",
   "metadata": {},
   "outputs": [
    {
     "name": "stdout",
     "output_type": "stream",
     "text": [
      "got it, so thats spelled m, a, r, l, e, y, right?\n"
     ]
    }
   ],
   "source": [
    "print(\"got it, so thats spelled \" + str([letter for letter in usr_name]).replace('[', '').replace(']', '').replace(\"'\", '') + \", right?\")"
   ]
  },
  {
   "cell_type": "markdown",
   "id": "c4ebd5d4",
   "metadata": {},
   "source": [
    "The \"b\" shortcut when selecting a cell creates a new cell below the current one.\n",
    "Shift + Enter runs the current cell, selects the next below\n",
    "Cmd + enter runs selected cells"
   ]
  }
 ],
 "metadata": {
  "kernelspec": {
   "display_name": "Python 3",
   "language": "python",
   "name": "python3"
  },
  "language_info": {
   "codemirror_mode": {
    "name": "ipython",
    "version": 3
   },
   "file_extension": ".py",
   "mimetype": "text/x-python",
   "name": "python",
   "nbconvert_exporter": "python",
   "pygments_lexer": "ipython3",
   "version": "3.8.8"
  }
 },
 "nbformat": 4,
 "nbformat_minor": 5
}
